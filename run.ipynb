{
 "cells": [
  {
   "cell_type": "code",
   "execution_count": null,
   "id": "d3420a2b",
   "metadata": {},
   "outputs": [],
   "source": [
    "# ---------------------------------------------------------------------------\n",
    "# SEL COLAB 5 (TANPA NGROK - Metode google.colab.output)\n",
    "# ---------------------------------------------------------------------------\n",
    "from google.colab.output import serve_kernel_port_as_window\n",
    "import os\n",
    "import threading # Untuk menjalankan Streamlit di thread terpisah\n",
    "\n",
    "print(\"Tahap 5: Menjalankan Streamlit menggunakan google.colab.output...\")\n",
    "\n",
    "# Konfigurasi port\n",
    "STREAMLIT_PORT = 8501 # Port default Streamlit\n",
    "\n",
    "# Path ke skrip Streamlit Anda\n",
    "streamlit_app_path = \"/content/dashboard_app.py\" # Pastikan ini benar\n",
    "\n",
    "# Perintah untuk menjalankan Streamlit\n",
    "command = f\"streamlit run {streamlit_app_path} --server.port {STREAMLIT_PORT} --server.headless true --server.enableCORS false\"\n",
    "\n",
    "# Fungsi untuk menjalankan perintah Streamlit di thread baru\n",
    "def run_streamlit():\n",
    "    os.system(command)\n",
    "\n",
    "# Jalankan Streamlit di thread terpisah agar tidak memblokir sel\n",
    "# Ini penting agar serve_kernel_port_as_window bisa berfungsi setelahnya\n",
    "thread = threading.Thread(target=run_streamlit)\n",
    "thread.start()\n",
    "print(f\"  Streamlit sedang dimulai di background pada port {STREAMLIT_PORT}...\")\n",
    "print(\"  Mohon tunggu beberapa saat (sekitar 15-30 detik) hingga server Streamlit siap.\")\n",
    "\n",
    "# Buka window baru yang menunjuk ke port Streamlit\n",
    "# Ini akan mencoba membuka tab baru di browser Anda\n",
    "try:\n",
    "    print(f\"\\n  Mencoba membuka dashboard di window baru untuk port {STREAMLIT_PORT}...\")\n",
    "    serve_kernel_port_as_window(STREAMLIT_PORT, path='/') # path='/' adalah root aplikasi Streamlit\n",
    "    print(f\"  Jika window tidak terbuka otomatis, coba refresh halaman Colab dan cari output link.\")\n",
    "    print(f\"  Dashboard juga mungkin bisa diakses melalui URL yang muncul di output (jika ada).\")\n",
    "except Exception as e:\n",
    "    print(f\"  ERROR saat mencoba membuka window: {e}\")\n",
    "    print(f\"  Anda mungkin perlu mencari URL secara manual di output konsol atau log jika serve_kernel_port_as_window gagal.\")\n",
    "\n",
    "# Catatan:\n",
    "# URL yang dihasilkan oleh serve_kernel_port_as_window mungkin terlihat seperti:\n",
    "# https://<colab_id>.googleusercontent.com/proxy/<port_number>/\n",
    "# Terkadang, output ini tidak langsung muncul dan window tidak otomatis terbuka.\n",
    "# Jika itu terjadi, coba jalankan perintah `!ps aux | grep streamlit` di sel baru\n",
    "# untuk melihat apakah proses Streamlit berjalan, lalu coba akses URL proxy Colab secara manual.\n",
    "# Biasanya, Colab akan menampilkan link \"View on port XXXX\" di output sel jika prosesnya berjalan."
   ]
  }
 ],
 "metadata": {
  "kernelspec": {
   "display_name": "Python 3",
   "language": "python",
   "name": "python3"
  },
  "language_info": {
   "name": "python",
   "version": "3.11.9"
  }
 },
 "nbformat": 4,
 "nbformat_minor": 5
}
